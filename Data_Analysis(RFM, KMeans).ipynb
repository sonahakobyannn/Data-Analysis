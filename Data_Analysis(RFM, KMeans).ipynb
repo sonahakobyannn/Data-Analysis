{
 "cells": [
  {
   "cell_type": "code",
   "execution_count": null,
   "metadata": {
    "id": "IjokYUJS-XQl",
    "is_executing": true
   },
   "outputs": [],
   "source": [
    "import os\n",
    "import pandas as pd\n",
    "import numpy as np\n",
    "import pandas as pd\n",
    "import matplotlib.pyplot as plt\n",
    "from sklearn.cluster import KMeans\n",
    "from sklearn.metrics import silhouette_score\n",
    "from sklearn.preprocessing import StandardScaler\n",
    "import warnings\n",
    "warnings.filterwarnings('ignore')"
   ]
  },
  {
   "cell_type": "code",
   "execution_count": null,
   "metadata": {
    "ExecuteTime": {
     "end_time": "2023-10-16T22:50:10.534092100Z",
     "start_time": "2023-10-16T22:50:10.413176500Z"
    },
    "id": "ztsogC---XQn",
    "outputId": "c3d35165-7c55-454b-a6fc-6100f7129d23"
   },
   "outputs": [
    {
     "data": {
      "text/plain": [
       "'C:\\\\Users\\\\Sona\\\\Desktop\\\\Business_Analytics_hw2'"
      ]
     },
     "execution_count": 2,
     "metadata": {},
     "output_type": "execute_result"
    }
   ],
   "source": [
    "os.getcwd()\n",
    "os.chdir(\"/Users/Sona/Desktop/Business_Analytics_hw2\")\n",
    "os.getcwd()"
   ]
  },
  {
   "cell_type": "code",
   "execution_count": null,
   "metadata": {
    "ExecuteTime": {
     "end_time": "2023-10-16T22:50:48.940277300Z",
     "start_time": "2023-10-16T22:50:10.493239500Z"
    },
    "id": "EyoVwJFy-XQo",
    "outputId": "80e172bc-d1c1-44bc-ee93-0ad793bfeb56"
   },
   "outputs": [
    {
     "data": {
      "text/html": [
       "<div>\n",
       "<style scoped>\n",
       "    .dataframe tbody tr th:only-of-type {\n",
       "        vertical-align: middle;\n",
       "    }\n",
       "\n",
       "    .dataframe tbody tr th {\n",
       "        vertical-align: top;\n",
       "    }\n",
       "\n",
       "    .dataframe thead th {\n",
       "        text-align: right;\n",
       "    }\n",
       "</style>\n",
       "<table border=\"1\" class=\"dataframe\">\n",
       "  <thead>\n",
       "    <tr style=\"text-align: right;\">\n",
       "      <th></th>\n",
       "      <th>CustomerID</th>\n",
       "      <th>Purchase_Date</th>\n",
       "      <th>Quantity</th>\n",
       "      <th>UnitPrice</th>\n",
       "      <th>Gender</th>\n",
       "      <th>City</th>\n",
       "      <th>Age</th>\n",
       "      <th>MonthlyIncome</th>\n",
       "      <th>Product_Name</th>\n",
       "    </tr>\n",
       "  </thead>\n",
       "  <tbody>\n",
       "    <tr>\n",
       "      <th>0</th>\n",
       "      <td>C53563</td>\n",
       "      <td>2021-03-24</td>\n",
       "      <td>3</td>\n",
       "      <td>643</td>\n",
       "      <td>Male</td>\n",
       "      <td>Denver</td>\n",
       "      <td>33</td>\n",
       "      <td>4980</td>\n",
       "      <td>Washing machine</td>\n",
       "    </tr>\n",
       "    <tr>\n",
       "      <th>1</th>\n",
       "      <td>C39154</td>\n",
       "      <td>2021-03-23</td>\n",
       "      <td>1</td>\n",
       "      <td>569</td>\n",
       "      <td>Female</td>\n",
       "      <td>San Diego</td>\n",
       "      <td>27</td>\n",
       "      <td>7141</td>\n",
       "      <td>Mobile phone</td>\n",
       "    </tr>\n",
       "    <tr>\n",
       "      <th>2</th>\n",
       "      <td>C39154</td>\n",
       "      <td>2021-03-30</td>\n",
       "      <td>2</td>\n",
       "      <td>69</td>\n",
       "      <td>Female</td>\n",
       "      <td>San Diego</td>\n",
       "      <td>27</td>\n",
       "      <td>7141</td>\n",
       "      <td>Pet food</td>\n",
       "    </tr>\n",
       "    <tr>\n",
       "      <th>3</th>\n",
       "      <td>C39154</td>\n",
       "      <td>2021-09-19</td>\n",
       "      <td>10</td>\n",
       "      <td>105</td>\n",
       "      <td>Female</td>\n",
       "      <td>San Diego</td>\n",
       "      <td>27</td>\n",
       "      <td>7141</td>\n",
       "      <td>Vitamin</td>\n",
       "    </tr>\n",
       "    <tr>\n",
       "      <th>4</th>\n",
       "      <td>C39154</td>\n",
       "      <td>2021-02-08</td>\n",
       "      <td>1</td>\n",
       "      <td>521</td>\n",
       "      <td>Female</td>\n",
       "      <td>San Diego</td>\n",
       "      <td>27</td>\n",
       "      <td>7141</td>\n",
       "      <td>Mobile phone</td>\n",
       "    </tr>\n",
       "  </tbody>\n",
       "</table>\n",
       "</div>"
      ],
      "text/plain": [
       "  CustomerID Purchase_Date  Quantity  UnitPrice  Gender       City  Age  \\\n",
       "0     C53563    2021-03-24         3        643    Male     Denver   33   \n",
       "1     C39154    2021-03-23         1        569  Female  San Diego   27   \n",
       "2     C39154    2021-03-30         2         69  Female  San Diego   27   \n",
       "3     C39154    2021-09-19        10        105  Female  San Diego   27   \n",
       "4     C39154    2021-02-08         1        521  Female  San Diego   27   \n",
       "\n",
       "   MonthlyIncome     Product_Name  \n",
       "0           4980  Washing machine  \n",
       "1           7141     Mobile phone  \n",
       "2           7141         Pet food  \n",
       "3           7141          Vitamin  \n",
       "4           7141     Mobile phone  "
      ]
     },
     "execution_count": 2,
     "metadata": {},
     "output_type": "execute_result"
    }
   ],
   "source": [
    "df = pd.read_excel(\"Walmart Sales.xlsx\")\n",
    "df.head()"
   ]
  },
  {
   "cell_type": "markdown",
   "metadata": {
    "id": "ZrkAqpG3-XQp"
   },
   "source": [
    "#### 1. Basic statistical and descriptive information about the features in the dataset."
   ]
  },
  {
   "cell_type": "code",
   "execution_count": null,
   "metadata": {
    "ExecuteTime": {
     "end_time": "2023-10-16T22:50:49.159990600Z",
     "start_time": "2023-10-16T22:50:48.946262Z"
    },
    "id": "QB698boV-XQq",
    "outputId": "d2941f3f-049c-4cfe-edb2-cf36c060b722"
   },
   "outputs": [
    {
     "data": {
      "text/html": [
       "<div>\n",
       "<style scoped>\n",
       "    .dataframe tbody tr th:only-of-type {\n",
       "        vertical-align: middle;\n",
       "    }\n",
       "\n",
       "    .dataframe tbody tr th {\n",
       "        vertical-align: top;\n",
       "    }\n",
       "\n",
       "    .dataframe thead th {\n",
       "        text-align: right;\n",
       "    }\n",
       "</style>\n",
       "<table border=\"1\" class=\"dataframe\">\n",
       "  <thead>\n",
       "    <tr style=\"text-align: right;\">\n",
       "      <th></th>\n",
       "      <th>Quantity</th>\n",
       "      <th>UnitPrice</th>\n",
       "      <th>Age</th>\n",
       "      <th>MonthlyIncome</th>\n",
       "    </tr>\n",
       "  </thead>\n",
       "  <tbody>\n",
       "    <tr>\n",
       "      <th>count</th>\n",
       "      <td>124279.000000</td>\n",
       "      <td>124279.000000</td>\n",
       "      <td>124279.000000</td>\n",
       "      <td>124279.000000</td>\n",
       "    </tr>\n",
       "    <tr>\n",
       "      <th>mean</th>\n",
       "      <td>4.505958</td>\n",
       "      <td>196.565268</td>\n",
       "      <td>51.284835</td>\n",
       "      <td>5720.114637</td>\n",
       "    </tr>\n",
       "    <tr>\n",
       "      <th>std</th>\n",
       "      <td>2.926061</td>\n",
       "      <td>216.382188</td>\n",
       "      <td>18.885571</td>\n",
       "      <td>1853.693784</td>\n",
       "    </tr>\n",
       "    <tr>\n",
       "      <th>min</th>\n",
       "      <td>1.000000</td>\n",
       "      <td>3.000000</td>\n",
       "      <td>18.000000</td>\n",
       "      <td>2501.000000</td>\n",
       "    </tr>\n",
       "    <tr>\n",
       "      <th>25%</th>\n",
       "      <td>2.000000</td>\n",
       "      <td>47.000000</td>\n",
       "      <td>36.000000</td>\n",
       "      <td>4086.000000</td>\n",
       "    </tr>\n",
       "    <tr>\n",
       "      <th>50%</th>\n",
       "      <td>4.000000</td>\n",
       "      <td>91.000000</td>\n",
       "      <td>51.000000</td>\n",
       "      <td>5847.000000</td>\n",
       "    </tr>\n",
       "    <tr>\n",
       "      <th>75%</th>\n",
       "      <td>7.000000</td>\n",
       "      <td>391.000000</td>\n",
       "      <td>67.000000</td>\n",
       "      <td>7263.000000</td>\n",
       "    </tr>\n",
       "    <tr>\n",
       "      <th>max</th>\n",
       "      <td>10.000000</td>\n",
       "      <td>699.000000</td>\n",
       "      <td>83.000000</td>\n",
       "      <td>8997.000000</td>\n",
       "    </tr>\n",
       "  </tbody>\n",
       "</table>\n",
       "</div>"
      ],
      "text/plain": [
       "            Quantity      UnitPrice            Age  MonthlyIncome\n",
       "count  124279.000000  124279.000000  124279.000000  124279.000000\n",
       "mean        4.505958     196.565268      51.284835    5720.114637\n",
       "std         2.926061     216.382188      18.885571    1853.693784\n",
       "min         1.000000       3.000000      18.000000    2501.000000\n",
       "25%         2.000000      47.000000      36.000000    4086.000000\n",
       "50%         4.000000      91.000000      51.000000    5847.000000\n",
       "75%         7.000000     391.000000      67.000000    7263.000000\n",
       "max        10.000000     699.000000      83.000000    8997.000000"
      ]
     },
     "execution_count": 3,
     "metadata": {},
     "output_type": "execute_result"
    }
   ],
   "source": [
    "df.describe()"
   ]
  },
  {
   "cell_type": "code",
   "execution_count": null,
   "metadata": {
    "ExecuteTime": {
     "end_time": "2023-10-16T22:50:49.496044100Z",
     "start_time": "2023-10-16T22:50:49.036557100Z"
    },
    "id": "CkFhYGGZ-XQq",
    "outputId": "1a7521ed-ebfe-4ecb-bed4-af40aac25c39"
   },
   "outputs": [
    {
     "name": "stdout",
     "output_type": "stream",
     "text": [
      "<class 'pandas.core.frame.DataFrame'>\n",
      "RangeIndex: 124279 entries, 0 to 124278\n",
      "Data columns (total 9 columns):\n",
      " #   Column         Non-Null Count   Dtype         \n",
      "---  ------         --------------   -----         \n",
      " 0   CustomerID     124279 non-null  object        \n",
      " 1   Purchase_Date  124279 non-null  datetime64[ns]\n",
      " 2   Quantity       124279 non-null  int64         \n",
      " 3   UnitPrice      124279 non-null  int64         \n",
      " 4   Gender         124279 non-null  object        \n",
      " 5   City           124279 non-null  object        \n",
      " 6   Age            124279 non-null  int64         \n",
      " 7   MonthlyIncome  124279 non-null  int64         \n",
      " 8   Product_Name   124279 non-null  object        \n",
      "dtypes: datetime64[ns](1), int64(4), object(4)\n",
      "memory usage: 8.5+ MB\n"
     ]
    }
   ],
   "source": [
    "df.info()"
   ]
  },
  {
   "cell_type": "code",
   "execution_count": null,
   "metadata": {
    "ExecuteTime": {
     "end_time": "2023-10-16T22:50:49.680749700Z",
     "start_time": "2023-10-16T22:50:49.321179800Z"
    },
    "id": "0aajGYks-XQr",
    "outputId": "f9664f1b-685c-40da-8f18-34433c0d35af"
   },
   "outputs": [
    {
     "data": {
      "text/plain": [
       "CustomerID       4276\n",
       "Purchase_Date     273\n",
       "Quantity           10\n",
       "UnitPrice         477\n",
       "Gender              2\n",
       "City                5\n",
       "Age                66\n",
       "MonthlyIncome    3192\n",
       "Product_Name        7\n",
       "dtype: int64"
      ]
     },
     "execution_count": 5,
     "metadata": {},
     "output_type": "execute_result"
    }
   ],
   "source": [
    "df.nunique()"
   ]
  },
  {
   "cell_type": "markdown",
   "metadata": {
    "id": "ZVDXIcTi-XQs"
   },
   "source": [
    "#### 2. Data cleaning/manipulation"
   ]
  },
  {
   "cell_type": "code",
   "execution_count": null,
   "metadata": {
    "ExecuteTime": {
     "end_time": "2023-10-16T22:50:49.850650200Z",
     "start_time": "2023-10-16T22:50:49.460168100Z"
    },
    "id": "vRRjAA5--XQs"
   },
   "outputs": [],
   "source": [
    "df = df[df['Quantity'] > 0 ] # exclude the orders with 0 value\n",
    "df = df[df['UnitPrice'] > 0] # exclude the Unit Price with 0 value"
   ]
  },
  {
   "cell_type": "code",
   "execution_count": null,
   "metadata": {
    "ExecuteTime": {
     "end_time": "2023-10-16T22:50:49.902394600Z",
     "start_time": "2023-10-16T22:50:49.550001700Z"
    },
    "id": "k2cnmweQ-XQt"
   },
   "outputs": [],
   "source": [
    "#function to detect outliers based on quantiles\n",
    "def define_boundaries(df, variable, q1=0.05, q2=0.95):\n",
    "    lower_boundary = df[variable].quantile(q1)\n",
    "    upper_boundary = df[variable].quantile(q2)\n",
    "    return upper_boundary, lower_boundary\n",
    "\n",
    "\n",
    "#function to drop outliers\n",
    "def drop_outliers(df, variable):\n",
    "    upper_boundary, lower_boundary = define_boundaries(df, variable)\n",
    "    df[variable] = np.where(df[variable] > upper_boundary, upper_boundary,\n",
    "                            np.where(df[variable] < lower_boundary, lower_boundary, df[variable]))\n"
   ]
  },
  {
   "cell_type": "markdown",
   "metadata": {
    "id": "53awiOsn-XQt"
   },
   "source": [
    "#### 3.\tRFM Analysis\n",
    " recency - 0.2\n",
    " frequency - 0.2\n",
    " monetary - 0.6\n",
    "4 groups so that if:\n",
    "    RFM score < 25 then ‘Leaving customers’\n",
    "    RFM score >= 25 and< 50 then ‘Risky customers’\n",
    "    RFM score >= 50 and< 75 then ‘Potential Loyalists’\n",
    "    RFM score >= 75 then ‘Champions’\n"
   ]
  },
  {
   "cell_type": "code",
   "execution_count": null,
   "metadata": {
    "ExecuteTime": {
     "end_time": "2023-10-16T22:50:50.079183700Z",
     "start_time": "2023-10-16T22:50:49.570114900Z"
    },
    "id": "ejnnMmVj-XQt",
    "outputId": "237b8aba-ef73-426c-c6a8-16b87080d676"
   },
   "outputs": [
    {
     "data": {
      "text/html": [
       "<div>\n",
       "<style scoped>\n",
       "    .dataframe tbody tr th:only-of-type {\n",
       "        vertical-align: middle;\n",
       "    }\n",
       "\n",
       "    .dataframe tbody tr th {\n",
       "        vertical-align: top;\n",
       "    }\n",
       "\n",
       "    .dataframe thead th {\n",
       "        text-align: right;\n",
       "    }\n",
       "</style>\n",
       "<table border=\"1\" class=\"dataframe\">\n",
       "  <thead>\n",
       "    <tr style=\"text-align: right;\">\n",
       "      <th></th>\n",
       "      <th>CustomerID</th>\n",
       "      <th>Recency</th>\n",
       "    </tr>\n",
       "  </thead>\n",
       "  <tbody>\n",
       "    <tr>\n",
       "      <th>0</th>\n",
       "      <td>C37051</td>\n",
       "      <td>86</td>\n",
       "    </tr>\n",
       "    <tr>\n",
       "      <th>1</th>\n",
       "      <td>C37054</td>\n",
       "      <td>2</td>\n",
       "    </tr>\n",
       "    <tr>\n",
       "      <th>2</th>\n",
       "      <td>C37057</td>\n",
       "      <td>61</td>\n",
       "    </tr>\n",
       "    <tr>\n",
       "      <th>3</th>\n",
       "      <td>C37060</td>\n",
       "      <td>30</td>\n",
       "    </tr>\n",
       "    <tr>\n",
       "      <th>4</th>\n",
       "      <td>C37063</td>\n",
       "      <td>6</td>\n",
       "    </tr>\n",
       "    <tr>\n",
       "      <th>...</th>\n",
       "      <td>...</td>\n",
       "      <td>...</td>\n",
       "    </tr>\n",
       "    <tr>\n",
       "      <th>4271</th>\n",
       "      <td>C54853</td>\n",
       "      <td>121</td>\n",
       "    </tr>\n",
       "    <tr>\n",
       "      <th>4272</th>\n",
       "      <td>C54856</td>\n",
       "      <td>53</td>\n",
       "    </tr>\n",
       "    <tr>\n",
       "      <th>4273</th>\n",
       "      <td>C54859</td>\n",
       "      <td>7</td>\n",
       "    </tr>\n",
       "    <tr>\n",
       "      <th>4274</th>\n",
       "      <td>C54862</td>\n",
       "      <td>4</td>\n",
       "    </tr>\n",
       "    <tr>\n",
       "      <th>4275</th>\n",
       "      <td>C54874</td>\n",
       "      <td>22</td>\n",
       "    </tr>\n",
       "  </tbody>\n",
       "</table>\n",
       "<p>4276 rows × 2 columns</p>\n",
       "</div>"
      ],
      "text/plain": [
       "     CustomerID  Recency\n",
       "0        C37051       86\n",
       "1        C37054        2\n",
       "2        C37057       61\n",
       "3        C37060       30\n",
       "4        C37063        6\n",
       "...         ...      ...\n",
       "4271     C54853      121\n",
       "4272     C54856       53\n",
       "4273     C54859        7\n",
       "4274     C54862        4\n",
       "4275     C54874       22\n",
       "\n",
       "[4276 rows x 2 columns]"
      ]
     },
     "execution_count": 8,
     "metadata": {},
     "output_type": "execute_result"
    }
   ],
   "source": [
    "# last date of purchase\n",
    "recency_df = df.groupby(by='CustomerID', as_index=False)['Purchase_Date'].max()\n",
    "recency_df.columns = ['CustomerID','LastPurshaceDate']\n",
    "\n",
    "\n",
    "# recent date\n",
    "recent_date=recency_df.LastPurshaceDate.max()\n",
    "\n",
    "# recency\n",
    "recency_df['Recency'] = recency_df['LastPurshaceDate'].apply(lambda x: (recent_date - x).days)\n",
    "\n",
    "rfm_table= pd.DataFrame()\n",
    "rfm_table[\"CustomerID\"]= recency_df.CustomerID\n",
    "rfm_table[\"Recency\"] = recency_df.Recency\n",
    "rfm_table"
   ]
  },
  {
   "cell_type": "code",
   "execution_count": null,
   "metadata": {
    "ExecuteTime": {
     "end_time": "2023-10-16T22:50:50.312159800Z",
     "start_time": "2023-10-16T22:50:49.726874800Z"
    },
    "id": "mDwaSilX-XQt",
    "outputId": "32659873-7f55-48df-9153-95b6c9ecb359"
   },
   "outputs": [
    {
     "data": {
      "text/plain": [
       "CustomerID    4276\n",
       "Recency       4276\n",
       "Frequency     4276\n",
       "dtype: int64"
      ]
     },
     "execution_count": 9,
     "metadata": {},
     "output_type": "execute_result"
    }
   ],
   "source": [
    "df_new= df\n",
    "df_new.drop_duplicates(subset=['Purchase_Date', 'CustomerID'], keep=\"first\", inplace=True)\n",
    "\n",
    "frequency_df = df_new.groupby(by=['CustomerID'], as_index=False)['Purchase_Date'].count()\n",
    "frequency_df.columns = ['CustomerID','Frequency']\n",
    "frequency_df\n",
    "\n",
    "rfm_table[\"Frequency\"]= frequency_df.Frequency\n",
    "rfm_table.count()"
   ]
  },
  {
   "cell_type": "code",
   "execution_count": null,
   "metadata": {
    "ExecuteTime": {
     "end_time": "2023-10-16T22:50:50.313157500Z",
     "start_time": "2023-10-16T22:50:49.897410100Z"
    },
    "id": "4y9mVuN--XQu",
    "outputId": "2a109523-6620-4ec1-905b-248ae045c27d"
   },
   "outputs": [
    {
     "data": {
      "text/plain": [
       "CustomerID    0\n",
       "Recency       0\n",
       "Frequency     0\n",
       "Monetary      0\n",
       "dtype: int64"
      ]
     },
     "execution_count": 10,
     "metadata": {},
     "output_type": "execute_result"
    }
   ],
   "source": [
    "df[\"each_payment\"]= df.Quantity* df.UnitPrice\n",
    "customer_monetary_table = df.groupby(by='CustomerID',as_index=False).agg({\"each_payment\": 'sum'})\n",
    "customer_monetary_table\n",
    "rfm_table[\"Monetary\"]= customer_monetary_table.each_payment\n",
    "rfm_table.count()\n",
    "rfm_table.isnull().sum()"
   ]
  },
  {
   "cell_type": "code",
   "execution_count": null,
   "metadata": {
    "id": "6G-oqN0g-XQu",
    "outputId": "e9f9fb5e-41ab-4a39-b710-016c6ba8f941"
   },
   "outputs": [
    {
     "data": {
      "text/html": [
       "<div>\n",
       "<style scoped>\n",
       "    .dataframe tbody tr th:only-of-type {\n",
       "        vertical-align: middle;\n",
       "    }\n",
       "\n",
       "    .dataframe tbody tr th {\n",
       "        vertical-align: top;\n",
       "    }\n",
       "\n",
       "    .dataframe thead th {\n",
       "        text-align: right;\n",
       "    }\n",
       "</style>\n",
       "<table border=\"1\" class=\"dataframe\">\n",
       "  <thead>\n",
       "    <tr style=\"text-align: right;\">\n",
       "      <th></th>\n",
       "      <th>CustomerID</th>\n",
       "      <th>Recency</th>\n",
       "      <th>Frequency</th>\n",
       "      <th>Monetary</th>\n",
       "    </tr>\n",
       "  </thead>\n",
       "  <tbody>\n",
       "    <tr>\n",
       "      <th>0</th>\n",
       "      <td>C37051</td>\n",
       "      <td>86</td>\n",
       "      <td>2</td>\n",
       "      <td>307</td>\n",
       "    </tr>\n",
       "    <tr>\n",
       "      <th>1</th>\n",
       "      <td>C37054</td>\n",
       "      <td>2</td>\n",
       "      <td>46</td>\n",
       "      <td>23431</td>\n",
       "    </tr>\n",
       "    <tr>\n",
       "      <th>2</th>\n",
       "      <td>C37057</td>\n",
       "      <td>61</td>\n",
       "      <td>11</td>\n",
       "      <td>5182</td>\n",
       "    </tr>\n",
       "    <tr>\n",
       "      <th>3</th>\n",
       "      <td>C37060</td>\n",
       "      <td>30</td>\n",
       "      <td>23</td>\n",
       "      <td>13406</td>\n",
       "    </tr>\n",
       "    <tr>\n",
       "      <th>4</th>\n",
       "      <td>C37063</td>\n",
       "      <td>6</td>\n",
       "      <td>2</td>\n",
       "      <td>1678</td>\n",
       "    </tr>\n",
       "    <tr>\n",
       "      <th>...</th>\n",
       "      <td>...</td>\n",
       "      <td>...</td>\n",
       "      <td>...</td>\n",
       "      <td>...</td>\n",
       "    </tr>\n",
       "    <tr>\n",
       "      <th>4271</th>\n",
       "      <td>C54853</td>\n",
       "      <td>121</td>\n",
       "      <td>4</td>\n",
       "      <td>2778</td>\n",
       "    </tr>\n",
       "    <tr>\n",
       "      <th>4272</th>\n",
       "      <td>C54856</td>\n",
       "      <td>53</td>\n",
       "      <td>2</td>\n",
       "      <td>954</td>\n",
       "    </tr>\n",
       "    <tr>\n",
       "      <th>4273</th>\n",
       "      <td>C54859</td>\n",
       "      <td>7</td>\n",
       "      <td>5</td>\n",
       "      <td>5526</td>\n",
       "    </tr>\n",
       "    <tr>\n",
       "      <th>4274</th>\n",
       "      <td>C54862</td>\n",
       "      <td>4</td>\n",
       "      <td>95</td>\n",
       "      <td>44223</td>\n",
       "    </tr>\n",
       "    <tr>\n",
       "      <th>4275</th>\n",
       "      <td>C54874</td>\n",
       "      <td>22</td>\n",
       "      <td>22</td>\n",
       "      <td>12029</td>\n",
       "    </tr>\n",
       "  </tbody>\n",
       "</table>\n",
       "<p>4276 rows × 4 columns</p>\n",
       "</div>"
      ],
      "text/plain": [
       "     CustomerID  Recency  Frequency  Monetary\n",
       "0        C37051       86          2       307\n",
       "1        C37054        2         46     23431\n",
       "2        C37057       61         11      5182\n",
       "3        C37060       30         23     13406\n",
       "4        C37063        6          2      1678\n",
       "...         ...      ...        ...       ...\n",
       "4271     C54853      121          4      2778\n",
       "4272     C54856       53          2       954\n",
       "4273     C54859        7          5      5526\n",
       "4274     C54862        4         95     44223\n",
       "4275     C54874       22         22     12029\n",
       "\n",
       "[4276 rows x 4 columns]"
      ]
     },
     "execution_count": 11,
     "metadata": {},
     "output_type": "execute_result"
    }
   ],
   "source": [
    "rfm_table"
   ]
  },
  {
   "cell_type": "code",
   "execution_count": null,
   "metadata": {
    "ExecuteTime": {
     "end_time": "2023-10-16T22:50:50.315152700Z",
     "start_time": "2023-10-16T22:50:50.003686200Z"
    },
    "id": "OVygxpRx-XQu",
    "outputId": "5ac4094b-dce0-41ee-ad05-f7799e16aedb"
   },
   "outputs": [
    {
     "data": {
      "text/plain": [
       "CustomerID     0\n",
       "Recency        0\n",
       "Frequency      0\n",
       "Monetary       0\n",
       "R_rank         0\n",
       "F_rank         0\n",
       "M_rank         0\n",
       "R_rank_norm    0\n",
       "F_rank_norm    0\n",
       "M_rank_norm    0\n",
       "dtype: int64"
      ]
     },
     "execution_count": 12,
     "metadata": {},
     "output_type": "execute_result"
    }
   ],
   "source": [
    "rfm_table['R_rank'] = rfm_table['Recency'].rank( ascending=False)\n",
    "rfm_table['F_rank'] = rfm_table['Frequency'].rank(ascending=True)\n",
    "rfm_table['M_rank'] = rfm_table['Monetary'].rank(ascending=True)\n",
    "\n",
    "rfm_table['R_rank_norm']=(rfm_table['R_rank']/rfm_table['R_rank'].max())*100\n",
    "rfm_table['F_rank_norm']=(rfm_table['F_rank']/rfm_table['F_rank'].max())*100\n",
    "rfm_table['M_rank_norm']=(rfm_table['F_rank']/rfm_table['M_rank'].max())*100\n",
    "rfm_table.isnull().sum()"
   ]
  },
  {
   "cell_type": "code",
   "execution_count": null,
   "metadata": {
    "ExecuteTime": {
     "end_time": "2023-10-16T22:50:50.322131500Z",
     "start_time": "2023-10-16T22:50:50.076191200Z"
    },
    "id": "ZuLWHiu7-XQu",
    "outputId": "dc5621b2-290e-45f8-93c2-ada328d4328a"
   },
   "outputs": [
    {
     "data": {
      "text/plain": [
       "CustomerID     0\n",
       "Recency        0\n",
       "Frequency      0\n",
       "Monetary       0\n",
       "R_rank         0\n",
       "F_rank         0\n",
       "M_rank         0\n",
       "R_rank_norm    0\n",
       "F_rank_norm    0\n",
       "M_rank_norm    0\n",
       "RFM_Score      0\n",
       "dtype: int64"
      ]
     },
     "execution_count": 13,
     "metadata": {},
     "output_type": "execute_result"
    }
   ],
   "source": [
    "rfm_table[\"RFM_Score\"] = 0.2* rfm_table.R_rank_norm + 0.2* rfm_table.F_rank_norm + 0.6* rfm_table.M_rank_norm\n",
    "rfm_table=rfm_table.round(0)\n",
    "rfm_table.isnull().sum()"
   ]
  },
  {
   "cell_type": "code",
   "execution_count": null,
   "metadata": {
    "ExecuteTime": {
     "end_time": "2023-10-16T22:50:50.449525500Z",
     "start_time": "2023-10-16T22:50:50.116622900Z"
    },
    "id": "m__FeMu5-XQu",
    "outputId": "ce052d57-295f-4b28-b1f6-0a89d2c96b86"
   },
   "outputs": [
    {
     "data": {
      "text/plain": [
       "CustomerID          0\n",
       "Recency             0\n",
       "Frequency           0\n",
       "Monetary            0\n",
       "R_rank              0\n",
       "F_rank              0\n",
       "M_rank              0\n",
       "R_rank_norm         0\n",
       "F_rank_norm         0\n",
       "M_rank_norm         0\n",
       "RFM_Score           0\n",
       "Customer_segment    0\n",
       "dtype: int64"
      ]
     },
     "execution_count": 14,
     "metadata": {},
     "output_type": "execute_result"
    }
   ],
   "source": [
    "rfm_table[\"Customer_segment\"]=np.where(rfm_table['RFM_Score'] < 25, \"Leaving customers\",\n",
    "                                         np.where((rfm_table['RFM_Score'] >= 25) & (rfm_table['RFM_Score'] < 50), \"Risky customers\",\n",
    "                                                  np.where((rfm_table['RFM_Score'] >= 50) & (rfm_table['RFM_Score'] < 75), \"Potential Loyalists\",\n",
    "                                                           \"Champions\")))\n",
    "rfm_table.isnull().sum()"
   ]
  },
  {
   "cell_type": "code",
   "execution_count": null,
   "metadata": {
    "ExecuteTime": {
     "end_time": "2023-10-16T22:50:50.666688900Z",
     "start_time": "2023-10-16T22:50:50.168510600Z"
    },
    "id": "0M3p6fv3-XQu",
    "outputId": "8ae89ce0-0939-41a9-f3e9-5f68af46773d"
   },
   "outputs": [
    {
     "data": {
      "text/html": [
       "<div>\n",
       "<style scoped>\n",
       "    .dataframe tbody tr th:only-of-type {\n",
       "        vertical-align: middle;\n",
       "    }\n",
       "\n",
       "    .dataframe tbody tr th {\n",
       "        vertical-align: top;\n",
       "    }\n",
       "\n",
       "    .dataframe thead th {\n",
       "        text-align: right;\n",
       "    }\n",
       "</style>\n",
       "<table border=\"1\" class=\"dataframe\">\n",
       "  <thead>\n",
       "    <tr style=\"text-align: right;\">\n",
       "      <th></th>\n",
       "      <th>CustomerID</th>\n",
       "    </tr>\n",
       "    <tr>\n",
       "      <th>Customer_segment</th>\n",
       "      <th></th>\n",
       "    </tr>\n",
       "  </thead>\n",
       "  <tbody>\n",
       "    <tr>\n",
       "      <th>Champions</th>\n",
       "      <td>1041</td>\n",
       "    </tr>\n",
       "    <tr>\n",
       "      <th>Leaving customers</th>\n",
       "      <td>941</td>\n",
       "    </tr>\n",
       "    <tr>\n",
       "      <th>Potential Loyalists</th>\n",
       "      <td>1147</td>\n",
       "    </tr>\n",
       "    <tr>\n",
       "      <th>Risky customers</th>\n",
       "      <td>1147</td>\n",
       "    </tr>\n",
       "  </tbody>\n",
       "</table>\n",
       "</div>"
      ],
      "text/plain": [
       "                     CustomerID\n",
       "Customer_segment               \n",
       "Champions                  1041\n",
       "Leaving customers           941\n",
       "Potential Loyalists        1147\n",
       "Risky customers            1147"
      ]
     },
     "execution_count": 15,
     "metadata": {},
     "output_type": "execute_result"
    }
   ],
   "source": [
    "rfm_table.groupby('Customer_segment')[['CustomerID']].count()"
   ]
  },
  {
   "cell_type": "markdown",
   "metadata": {
    "id": "4fppwZVg-XQv"
   },
   "source": [
    "#### 4.\tPlot a bar chart to show the number of customers in each group by gender. Provide an interpretation of your results. (5 points)"
   ]
  },
  {
   "cell_type": "code",
   "execution_count": null,
   "metadata": {
    "id": "GuDGD_Z2-XQv",
    "outputId": "03bfde63-4249-455e-a7a1-ec4f003bc957",
    "is_executing": true
   },
   "outputs": [],
   "source": [
    "customer_df=pd.DataFrame()\n",
    "customer_df[\"Segment\"]= rfm_table.Customer_segment\n",
    "customer_df[\"Gender\"] = df.Gender\n",
    "grouped = customer_df.groupby([ \"Segment\", \"Gender\"]).size().unstack()\n",
    "\n",
    "# Plot of a bar chart\n",
    "grouped.plot(kind='bar', stacked=True)\n",
    "plt.xlabel('Customer Group')\n",
    "plt.ylabel('Number of Customers')\n",
    "plt.title('Number of Customers in Each Group by Gender')\n",
    "plt.legend(title='Gender')\n",
    "\n",
    "plt.show()"
   ]
  },
  {
   "cell_type": "markdown",
   "metadata": {
    "id": "UsOVgKXY-XQv"
   },
   "source": [
    "##### <u> The bar chart visually represents the number of customers in each segment, with each bar representing a specific customer group, and the bars are further broken down by gender. Juding from the chart that we have above all the segments are nearly equally shared by male and female groups. What's more we have higher numbers of potential loyalists and risky customers and lower number of leaving customers, which is good!</u>"
   ]
  },
  {
   "cell_type": "markdown",
   "metadata": {
    "id": "E7B6xaXG-XQv"
   },
   "source": [
    "#### 5.\t(25 points) For the K-Means clustering analysis use the following columns to cluster the customers into groups:\n",
    "\n",
    "##### Recency, Frequency, Monetary, Age, MonthlyIncome\n"
   ]
  },
  {
   "cell_type": "code",
   "execution_count": null,
   "metadata": {
    "ExecuteTime": {
     "end_time": "2023-10-16T23:09:41.354531Z",
     "start_time": "2023-10-16T23:09:41.223653Z"
    },
    "id": "J__OayT0-XQv",
    "outputId": "67eda0bf-088d-4fb7-8251-03a249d7be1b"
   },
   "outputs": [
    {
     "data": {
      "text/plain": [
       "Recency          0\n",
       "Frequency        0\n",
       "Monetary         0\n",
       "Age              0\n",
       "MonthlyIncome    0\n",
       "dtype: int64"
      ]
     },
     "execution_count": 17,
     "metadata": {},
     "output_type": "execute_result"
    }
   ],
   "source": [
    "subset= df[['CustomerID', 'Age', 'MonthlyIncome','Gender']]\n",
    "subset_no_dupl = subset.drop_duplicates(subset=['CustomerID', 'Age', 'MonthlyIncome','Gender'])\n",
    "subset_no_dupl\n",
    "rfm_updated = rfm_table.merge(subset_no_dupl, on='CustomerID', how='left')\n",
    "selected = rfm_updated[['Recency', 'Frequency', 'Monetary', 'Age', 'MonthlyIncome']]\n",
    "selected.isnull().sum()"
   ]
  },
  {
   "cell_type": "code",
   "execution_count": null,
   "metadata": {
    "ExecuteTime": {
     "end_time": "2023-10-16T23:04:27.171520600Z",
     "start_time": "2023-10-16T23:04:25.860028700Z"
    },
    "id": "aI1Gh5R8-XQv",
    "outputId": "11ad3fab-0724-4174-fbec-6d88a5acd81e"
   },
   "outputs": [
    {
     "data": {
      "text/html": [
       "<div>\n",
       "<style scoped>\n",
       "    .dataframe tbody tr th:only-of-type {\n",
       "        vertical-align: middle;\n",
       "    }\n",
       "\n",
       "    .dataframe tbody tr th {\n",
       "        vertical-align: top;\n",
       "    }\n",
       "\n",
       "    .dataframe thead th {\n",
       "        text-align: right;\n",
       "    }\n",
       "</style>\n",
       "<table border=\"1\" class=\"dataframe\">\n",
       "  <thead>\n",
       "    <tr style=\"text-align: right;\">\n",
       "      <th></th>\n",
       "      <th>CustomerID</th>\n",
       "      <th>Recency</th>\n",
       "      <th>Frequency</th>\n",
       "      <th>Monetary</th>\n",
       "      <th>R_rank</th>\n",
       "      <th>F_rank</th>\n",
       "      <th>M_rank</th>\n",
       "      <th>R_rank_norm</th>\n",
       "      <th>F_rank_norm</th>\n",
       "      <th>M_rank_norm</th>\n",
       "      <th>RFM_Score</th>\n",
       "      <th>Customer_segment</th>\n",
       "      <th>cluster</th>\n",
       "    </tr>\n",
       "  </thead>\n",
       "  <tbody>\n",
       "    <tr>\n",
       "      <th>0</th>\n",
       "      <td>C37051</td>\n",
       "      <td>86</td>\n",
       "      <td>2</td>\n",
       "      <td>307</td>\n",
       "      <td>392.0</td>\n",
       "      <td>276.0</td>\n",
       "      <td>78.0</td>\n",
       "      <td>10.0</td>\n",
       "      <td>6.0</td>\n",
       "      <td>6.0</td>\n",
       "      <td>7.0</td>\n",
       "      <td>Leaving customers</td>\n",
       "      <td>0</td>\n",
       "    </tr>\n",
       "    <tr>\n",
       "      <th>1</th>\n",
       "      <td>C37054</td>\n",
       "      <td>2</td>\n",
       "      <td>46</td>\n",
       "      <td>23431</td>\n",
       "      <td>3438.0</td>\n",
       "      <td>3664.0</td>\n",
       "      <td>3562.0</td>\n",
       "      <td>84.0</td>\n",
       "      <td>86.0</td>\n",
       "      <td>86.0</td>\n",
       "      <td>85.0</td>\n",
       "      <td>Champions</td>\n",
       "      <td>2</td>\n",
       "    </tr>\n",
       "    <tr>\n",
       "      <th>2</th>\n",
       "      <td>C37057</td>\n",
       "      <td>61</td>\n",
       "      <td>11</td>\n",
       "      <td>5182</td>\n",
       "      <td>608.0</td>\n",
       "      <td>1818.0</td>\n",
       "      <td>1614.0</td>\n",
       "      <td>15.0</td>\n",
       "      <td>43.0</td>\n",
       "      <td>43.0</td>\n",
       "      <td>37.0</td>\n",
       "      <td>Risky customers</td>\n",
       "      <td>0</td>\n",
       "    </tr>\n",
       "    <tr>\n",
       "      <th>3</th>\n",
       "      <td>C37060</td>\n",
       "      <td>30</td>\n",
       "      <td>23</td>\n",
       "      <td>13406</td>\n",
       "      <td>1160.0</td>\n",
       "      <td>2854.0</td>\n",
       "      <td>2884.0</td>\n",
       "      <td>28.0</td>\n",
       "      <td>67.0</td>\n",
       "      <td>67.0</td>\n",
       "      <td>59.0</td>\n",
       "      <td>Potential Loyalists</td>\n",
       "      <td>0</td>\n",
       "    </tr>\n",
       "    <tr>\n",
       "      <th>4</th>\n",
       "      <td>C37063</td>\n",
       "      <td>6</td>\n",
       "      <td>2</td>\n",
       "      <td>1678</td>\n",
       "      <td>2698.0</td>\n",
       "      <td>276.0</td>\n",
       "      <td>550.0</td>\n",
       "      <td>66.0</td>\n",
       "      <td>6.0</td>\n",
       "      <td>6.0</td>\n",
       "      <td>18.0</td>\n",
       "      <td>Leaving customers</td>\n",
       "      <td>0</td>\n",
       "    </tr>\n",
       "    <tr>\n",
       "      <th>...</th>\n",
       "      <td>...</td>\n",
       "      <td>...</td>\n",
       "      <td>...</td>\n",
       "      <td>...</td>\n",
       "      <td>...</td>\n",
       "      <td>...</td>\n",
       "      <td>...</td>\n",
       "      <td>...</td>\n",
       "      <td>...</td>\n",
       "      <td>...</td>\n",
       "      <td>...</td>\n",
       "      <td>...</td>\n",
       "      <td>...</td>\n",
       "    </tr>\n",
       "    <tr>\n",
       "      <th>4271</th>\n",
       "      <td>C54853</td>\n",
       "      <td>121</td>\n",
       "      <td>4</td>\n",
       "      <td>2778</td>\n",
       "      <td>230.0</td>\n",
       "      <td>666.0</td>\n",
       "      <td>933.0</td>\n",
       "      <td>6.0</td>\n",
       "      <td>16.0</td>\n",
       "      <td>16.0</td>\n",
       "      <td>14.0</td>\n",
       "      <td>Leaving customers</td>\n",
       "      <td>0</td>\n",
       "    </tr>\n",
       "    <tr>\n",
       "      <th>4272</th>\n",
       "      <td>C54856</td>\n",
       "      <td>53</td>\n",
       "      <td>2</td>\n",
       "      <td>954</td>\n",
       "      <td>694.0</td>\n",
       "      <td>276.0</td>\n",
       "      <td>303.0</td>\n",
       "      <td>17.0</td>\n",
       "      <td>6.0</td>\n",
       "      <td>6.0</td>\n",
       "      <td>9.0</td>\n",
       "      <td>Leaving customers</td>\n",
       "      <td>0</td>\n",
       "    </tr>\n",
       "    <tr>\n",
       "      <th>4273</th>\n",
       "      <td>C54859</td>\n",
       "      <td>7</td>\n",
       "      <td>5</td>\n",
       "      <td>5526</td>\n",
       "      <td>2552.0</td>\n",
       "      <td>862.0</td>\n",
       "      <td>1703.0</td>\n",
       "      <td>63.0</td>\n",
       "      <td>20.0</td>\n",
       "      <td>20.0</td>\n",
       "      <td>29.0</td>\n",
       "      <td>Risky customers</td>\n",
       "      <td>0</td>\n",
       "    </tr>\n",
       "    <tr>\n",
       "      <th>4274</th>\n",
       "      <td>C54862</td>\n",
       "      <td>4</td>\n",
       "      <td>95</td>\n",
       "      <td>44223</td>\n",
       "      <td>3019.0</td>\n",
       "      <td>4126.0</td>\n",
       "      <td>4038.0</td>\n",
       "      <td>74.0</td>\n",
       "      <td>97.0</td>\n",
       "      <td>97.0</td>\n",
       "      <td>92.0</td>\n",
       "      <td>Champions</td>\n",
       "      <td>2</td>\n",
       "    </tr>\n",
       "    <tr>\n",
       "      <th>4275</th>\n",
       "      <td>C54874</td>\n",
       "      <td>22</td>\n",
       "      <td>22</td>\n",
       "      <td>12029</td>\n",
       "      <td>1436.0</td>\n",
       "      <td>2798.0</td>\n",
       "      <td>2756.0</td>\n",
       "      <td>35.0</td>\n",
       "      <td>65.0</td>\n",
       "      <td>65.0</td>\n",
       "      <td>59.0</td>\n",
       "      <td>Potential Loyalists</td>\n",
       "      <td>0</td>\n",
       "    </tr>\n",
       "  </tbody>\n",
       "</table>\n",
       "<p>4276 rows × 13 columns</p>\n",
       "</div>"
      ],
      "text/plain": [
       "     CustomerID  Recency  Frequency  Monetary  R_rank  F_rank  M_rank  \\\n",
       "0        C37051       86          2       307   392.0   276.0    78.0   \n",
       "1        C37054        2         46     23431  3438.0  3664.0  3562.0   \n",
       "2        C37057       61         11      5182   608.0  1818.0  1614.0   \n",
       "3        C37060       30         23     13406  1160.0  2854.0  2884.0   \n",
       "4        C37063        6          2      1678  2698.0   276.0   550.0   \n",
       "...         ...      ...        ...       ...     ...     ...     ...   \n",
       "4271     C54853      121          4      2778   230.0   666.0   933.0   \n",
       "4272     C54856       53          2       954   694.0   276.0   303.0   \n",
       "4273     C54859        7          5      5526  2552.0   862.0  1703.0   \n",
       "4274     C54862        4         95     44223  3019.0  4126.0  4038.0   \n",
       "4275     C54874       22         22     12029  1436.0  2798.0  2756.0   \n",
       "\n",
       "      R_rank_norm  F_rank_norm  M_rank_norm  RFM_Score     Customer_segment  \\\n",
       "0            10.0          6.0          6.0        7.0    Leaving customers   \n",
       "1            84.0         86.0         86.0       85.0            Champions   \n",
       "2            15.0         43.0         43.0       37.0      Risky customers   \n",
       "3            28.0         67.0         67.0       59.0  Potential Loyalists   \n",
       "4            66.0          6.0          6.0       18.0    Leaving customers   \n",
       "...           ...          ...          ...        ...                  ...   \n",
       "4271          6.0         16.0         16.0       14.0    Leaving customers   \n",
       "4272         17.0          6.0          6.0        9.0    Leaving customers   \n",
       "4273         63.0         20.0         20.0       29.0      Risky customers   \n",
       "4274         74.0         97.0         97.0       92.0            Champions   \n",
       "4275         35.0         65.0         65.0       59.0  Potential Loyalists   \n",
       "\n",
       "      cluster  \n",
       "0           0  \n",
       "1           2  \n",
       "2           0  \n",
       "3           0  \n",
       "4           0  \n",
       "...       ...  \n",
       "4271        0  \n",
       "4272        0  \n",
       "4273        0  \n",
       "4274        2  \n",
       "4275        0  \n",
       "\n",
       "[4276 rows x 13 columns]"
      ]
     },
     "execution_count": 18,
     "metadata": {},
     "output_type": "execute_result"
    }
   ],
   "source": [
    "scaler = StandardScaler()\n",
    "scaled_data = scaler.fit_transform(selected)\n",
    "kmeans = KMeans(n_clusters=3, init='k-means++', random_state=42)\n",
    "y_means = kmeans.fit_predict(selected)\n",
    "rfm_table[\"cluster\"] = y_means\n",
    "rfm_updated[\"cluster\"] = y_means\n",
    "rfm_table"
   ]
  },
  {
   "cell_type": "code",
   "execution_count": null,
   "metadata": {
    "ExecuteTime": {
     "end_time": "2023-10-16T22:50:53.626796800Z",
     "start_time": "2023-10-16T22:50:53.468050200Z"
    },
    "id": "_LNlyfQr-XQw",
    "outputId": "58030ad5-1064-47f6-d456-6ea76cf8ab00"
   },
   "outputs": [
    {
     "data": {
      "text/plain": [
       "0    3138\n",
       "2     942\n",
       "1     196\n",
       "Name: cluster, dtype: int64"
      ]
     },
     "execution_count": 19,
     "metadata": {},
     "output_type": "execute_result"
    }
   ],
   "source": [
    "rfm_table['cluster'].value_counts()"
   ]
  },
  {
   "cell_type": "markdown",
   "metadata": {
    "id": "4Yb03w-f-XQw"
   },
   "source": [
    "#### 6.\tUse Elbow and Silhouette_score to find the optimal number of clusters between 1-15. Mention which approach you choose for the Elbow method (15 points)"
   ]
  },
  {
   "cell_type": "markdown",
   "metadata": {
    "id": "ksYSo65Z-XQw"
   },
   "source": [
    "### Elbow method"
   ]
  },
  {
   "cell_type": "code",
   "execution_count": null,
   "metadata": {
    "ExecuteTime": {
     "end_time": "2023-10-16T22:51:16.931746400Z",
     "start_time": "2023-10-16T22:50:53.511272500Z"
    },
    "id": "_c1lMRFk-XQw",
    "outputId": "008468d6-4a2a-4366-f7da-ac0d909be808"
   },
   "outputs": [
    {
     "data": {
      "image/png": "[encoded data removed]",
      "text/plain": [
       "<Figure size 640x480 with 1 Axes>"
      ]
     },
     "metadata": {},
     "output_type": "display_data"
    }
   ],
   "source": [
    "wcss= [] #the sum of squared distance between each point and the centroid in a cluster\n",
    "for i in range(1,16):\n",
    "    k_means = KMeans(n_clusters=i, init=\"k-means++\")\n",
    "    k_means.fit(selected)\n",
    "    wcss.append(k_means.inertia_)\n",
    "\n",
    "plt.plot(range(1,16),wcss)\n",
    "plt.title(\"Elbow Method\")\n",
    "plt.xlabel(\"No of Clusters\")\n",
    "plt.ylabel(\"WCSS\")\n",
    "plt.show()"
   ]
  },
  {
   "cell_type": "markdown",
   "metadata": {
    "id": "Cw41ANHq-XQw"
   },
   "source": [
    "#### After looking at the graph above we can observe that the elbow point is around 3 so the number of optimal clusters is 3. What's more, from different types of ELbow method I used inertia here."
   ]
  },
  {
   "cell_type": "markdown",
   "metadata": {
    "id": "PoZK8hBf-XQw"
   },
   "source": [
    "### Silhouette_score"
   ]
  },
  {
   "cell_type": "markdown",
   "source": [
    "## For the optimal number of k both Elbow and Silhouette scoe should be taken into consideration\n",
    "## Minus 5 points\n"
   ],
   "metadata": {
    "id": "LGk-4AfC-e5C"
   }
  },
  {
   "cell_type": "code",
   "execution_count": null,
   "metadata": {
    "ExecuteTime": {
     "end_time": "2023-10-16T22:51:52.003620600Z",
     "start_time": "2023-10-16T22:51:16.936733900Z"
    },
    "id": "cuAfLd5b-XQw",
    "outputId": "2eee50e7-6f1a-4053-931e-9df024f97f05"
   },
   "outputs": [
    {
     "data": {
      "text/plain": [
       "0.6352091779071883"
      ]
     },
     "execution_count": 21,
     "metadata": {},
     "output_type": "execute_result"
    }
   ],
   "source": [
    "data_features = selected.iloc[:,:].values\n",
    "silhouette_score(data_features,y_means)"
   ]
  },
  {
   "cell_type": "markdown",
   "metadata": {
    "id": "yXlxbXmI-XQw"
   },
   "source": [
    "#### Silhouette_score can be in the range [-1,1]. Values close to 1 show that clustering has been successful on the other hand close to -1 the clustering is done poorly. And values close to 0 show that some point might apper near or on the boundaries. So our value of around 0.63 is not bad, while it could be improved."
   ]
  },
  {
   "cell_type": "markdown",
   "metadata": {
    "id": "9ajg9mTn-XQw"
   },
   "source": [
    "#### 7.\tProvide an interpretation of your findings regarding cluster size and characteristics of each cluster. For example, how clusters differ based on average monthly salary. (10 points)"
   ]
  },
  {
   "cell_type": "code",
   "execution_count": null,
   "metadata": {
    "ExecuteTime": {
     "end_time": "2023-10-16T23:03:36.080765700Z",
     "start_time": "2023-10-16T23:03:36.032895500Z"
    },
    "id": "XsFMUS1f-XQx",
    "outputId": "f0a4a791-2468-4031-8898-9e5f5c29697c"
   },
   "outputs": [
    {
     "data": {
      "text/html": [
       "<div>\n",
       "<style scoped>\n",
       "    .dataframe tbody tr th:only-of-type {\n",
       "        vertical-align: middle;\n",
       "    }\n",
       "\n",
       "    .dataframe tbody tr th {\n",
       "        vertical-align: top;\n",
       "    }\n",
       "\n",
       "    .dataframe thead th {\n",
       "        text-align: right;\n",
       "    }\n",
       "</style>\n",
       "<table border=\"1\" class=\"dataframe\">\n",
       "  <thead>\n",
       "    <tr style=\"text-align: right;\">\n",
       "      <th></th>\n",
       "      <th>CustomerID</th>\n",
       "      <th>Recency</th>\n",
       "      <th>Frequency</th>\n",
       "      <th>Monetary</th>\n",
       "      <th>R_rank</th>\n",
       "      <th>F_rank</th>\n",
       "      <th>M_rank</th>\n",
       "      <th>R_rank_norm</th>\n",
       "      <th>F_rank_norm</th>\n",
       "      <th>M_rank_norm</th>\n",
       "      <th>RFM_Score</th>\n",
       "      <th>Customer_segment</th>\n",
       "      <th>cluster</th>\n",
       "    </tr>\n",
       "  </thead>\n",
       "  <tbody>\n",
       "    <tr>\n",
       "      <th>0</th>\n",
       "      <td>C37051</td>\n",
       "      <td>86</td>\n",
       "      <td>2</td>\n",
       "      <td>307</td>\n",
       "      <td>392.0</td>\n",
       "      <td>276.0</td>\n",
       "      <td>78.0</td>\n",
       "      <td>10.0</td>\n",
       "      <td>6.0</td>\n",
       "      <td>6.0</td>\n",
       "      <td>7.0</td>\n",
       "      <td>Leaving customers</td>\n",
       "      <td>0</td>\n",
       "    </tr>\n",
       "    <tr>\n",
       "      <th>1</th>\n",
       "      <td>C37054</td>\n",
       "      <td>2</td>\n",
       "      <td>46</td>\n",
       "      <td>23431</td>\n",
       "      <td>3438.0</td>\n",
       "      <td>3664.0</td>\n",
       "      <td>3562.0</td>\n",
       "      <td>84.0</td>\n",
       "      <td>86.0</td>\n",
       "      <td>86.0</td>\n",
       "      <td>85.0</td>\n",
       "      <td>Champions</td>\n",
       "      <td>2</td>\n",
       "    </tr>\n",
       "    <tr>\n",
       "      <th>2</th>\n",
       "      <td>C37057</td>\n",
       "      <td>61</td>\n",
       "      <td>11</td>\n",
       "      <td>5182</td>\n",
       "      <td>608.0</td>\n",
       "      <td>1818.0</td>\n",
       "      <td>1614.0</td>\n",
       "      <td>15.0</td>\n",
       "      <td>43.0</td>\n",
       "      <td>43.0</td>\n",
       "      <td>37.0</td>\n",
       "      <td>Risky customers</td>\n",
       "      <td>0</td>\n",
       "    </tr>\n",
       "    <tr>\n",
       "      <th>3</th>\n",
       "      <td>C37060</td>\n",
       "      <td>30</td>\n",
       "      <td>23</td>\n",
       "      <td>13406</td>\n",
       "      <td>1160.0</td>\n",
       "      <td>2854.0</td>\n",
       "      <td>2884.0</td>\n",
       "      <td>28.0</td>\n",
       "      <td>67.0</td>\n",
       "      <td>67.0</td>\n",
       "      <td>59.0</td>\n",
       "      <td>Potential Loyalists</td>\n",
       "      <td>0</td>\n",
       "    </tr>\n",
       "    <tr>\n",
       "      <th>4</th>\n",
       "      <td>C37063</td>\n",
       "      <td>6</td>\n",
       "      <td>2</td>\n",
       "      <td>1678</td>\n",
       "      <td>2698.0</td>\n",
       "      <td>276.0</td>\n",
       "      <td>550.0</td>\n",
       "      <td>66.0</td>\n",
       "      <td>6.0</td>\n",
       "      <td>6.0</td>\n",
       "      <td>18.0</td>\n",
       "      <td>Leaving customers</td>\n",
       "      <td>0</td>\n",
       "    </tr>\n",
       "    <tr>\n",
       "      <th>...</th>\n",
       "      <td>...</td>\n",
       "      <td>...</td>\n",
       "      <td>...</td>\n",
       "      <td>...</td>\n",
       "      <td>...</td>\n",
       "      <td>...</td>\n",
       "      <td>...</td>\n",
       "      <td>...</td>\n",
       "      <td>...</td>\n",
       "      <td>...</td>\n",
       "      <td>...</td>\n",
       "      <td>...</td>\n",
       "      <td>...</td>\n",
       "    </tr>\n",
       "    <tr>\n",
       "      <th>4271</th>\n",
       "      <td>C54853</td>\n",
       "      <td>121</td>\n",
       "      <td>4</td>\n",
       "      <td>2778</td>\n",
       "      <td>230.0</td>\n",
       "      <td>666.0</td>\n",
       "      <td>933.0</td>\n",
       "      <td>6.0</td>\n",
       "      <td>16.0</td>\n",
       "      <td>16.0</td>\n",
       "      <td>14.0</td>\n",
       "      <td>Leaving customers</td>\n",
       "      <td>0</td>\n",
       "    </tr>\n",
       "    <tr>\n",
       "      <th>4272</th>\n",
       "      <td>C54856</td>\n",
       "      <td>53</td>\n",
       "      <td>2</td>\n",
       "      <td>954</td>\n",
       "      <td>694.0</td>\n",
       "      <td>276.0</td>\n",
       "      <td>303.0</td>\n",
       "      <td>17.0</td>\n",
       "      <td>6.0</td>\n",
       "      <td>6.0</td>\n",
       "      <td>9.0</td>\n",
       "      <td>Leaving customers</td>\n",
       "      <td>0</td>\n",
       "    </tr>\n",
       "    <tr>\n",
       "      <th>4273</th>\n",
       "      <td>C54859</td>\n",
       "      <td>7</td>\n",
       "      <td>5</td>\n",
       "      <td>5526</td>\n",
       "      <td>2552.0</td>\n",
       "      <td>862.0</td>\n",
       "      <td>1703.0</td>\n",
       "      <td>63.0</td>\n",
       "      <td>20.0</td>\n",
       "      <td>20.0</td>\n",
       "      <td>29.0</td>\n",
       "      <td>Risky customers</td>\n",
       "      <td>0</td>\n",
       "    </tr>\n",
       "    <tr>\n",
       "      <th>4274</th>\n",
       "      <td>C54862</td>\n",
       "      <td>4</td>\n",
       "      <td>95</td>\n",
       "      <td>44223</td>\n",
       "      <td>3019.0</td>\n",
       "      <td>4126.0</td>\n",
       "      <td>4038.0</td>\n",
       "      <td>74.0</td>\n",
       "      <td>97.0</td>\n",
       "      <td>97.0</td>\n",
       "      <td>92.0</td>\n",
       "      <td>Champions</td>\n",
       "      <td>2</td>\n",
       "    </tr>\n",
       "    <tr>\n",
       "      <th>4275</th>\n",
       "      <td>C54874</td>\n",
       "      <td>22</td>\n",
       "      <td>22</td>\n",
       "      <td>12029</td>\n",
       "      <td>1436.0</td>\n",
       "      <td>2798.0</td>\n",
       "      <td>2756.0</td>\n",
       "      <td>35.0</td>\n",
       "      <td>65.0</td>\n",
       "      <td>65.0</td>\n",
       "      <td>59.0</td>\n",
       "      <td>Potential Loyalists</td>\n",
       "      <td>0</td>\n",
       "    </tr>\n",
       "  </tbody>\n",
       "</table>\n",
       "<p>4276 rows × 13 columns</p>\n",
       "</div>"
      ],
      "text/plain": [
       "     CustomerID  Recency  Frequency  Monetary  R_rank  F_rank  M_rank  \\\n",
       "0        C37051       86          2       307   392.0   276.0    78.0   \n",
       "1        C37054        2         46     23431  3438.0  3664.0  3562.0   \n",
       "2        C37057       61         11      5182   608.0  1818.0  1614.0   \n",
       "3        C37060       30         23     13406  1160.0  2854.0  2884.0   \n",
       "4        C37063        6          2      1678  2698.0   276.0   550.0   \n",
       "...         ...      ...        ...       ...     ...     ...     ...   \n",
       "4271     C54853      121          4      2778   230.0   666.0   933.0   \n",
       "4272     C54856       53          2       954   694.0   276.0   303.0   \n",
       "4273     C54859        7          5      5526  2552.0   862.0  1703.0   \n",
       "4274     C54862        4         95     44223  3019.0  4126.0  4038.0   \n",
       "4275     C54874       22         22     12029  1436.0  2798.0  2756.0   \n",
       "\n",
       "      R_rank_norm  F_rank_norm  M_rank_norm  RFM_Score     Customer_segment  \\\n",
       "0            10.0          6.0          6.0        7.0    Leaving customers   \n",
       "1            84.0         86.0         86.0       85.0            Champions   \n",
       "2            15.0         43.0         43.0       37.0      Risky customers   \n",
       "3            28.0         67.0         67.0       59.0  Potential Loyalists   \n",
       "4            66.0          6.0          6.0       18.0    Leaving customers   \n",
       "...           ...          ...          ...        ...                  ...   \n",
       "4271          6.0         16.0         16.0       14.0    Leaving customers   \n",
       "4272         17.0          6.0          6.0        9.0    Leaving customers   \n",
       "4273         63.0         20.0         20.0       29.0      Risky customers   \n",
       "4274         74.0         97.0         97.0       92.0            Champions   \n",
       "4275         35.0         65.0         65.0       59.0  Potential Loyalists   \n",
       "\n",
       "      cluster  \n",
       "0           0  \n",
       "1           2  \n",
       "2           0  \n",
       "3           0  \n",
       "4           0  \n",
       "...       ...  \n",
       "4271        0  \n",
       "4272        0  \n",
       "4273        0  \n",
       "4274        2  \n",
       "4275        0  \n",
       "\n",
       "[4276 rows x 13 columns]"
      ]
     },
     "execution_count": 22,
     "metadata": {},
     "output_type": "execute_result"
    }
   ],
   "source": [
    "rfm_table"
   ]
  },
  {
   "cell_type": "code",
   "execution_count": null,
   "metadata": {
    "ExecuteTime": {
     "end_time": "2023-10-16T23:04:52.633846900Z",
     "start_time": "2023-10-16T23:04:52.571013Z"
    },
    "id": "f2Z6uXNe-XQx",
    "outputId": "8d8424f9-4039-4563-8886-3b356ba8875f"
   },
   "outputs": [
    {
     "data": {
      "text/html": [
       "<div>\n",
       "<style scoped>\n",
       "    .dataframe tbody tr th:only-of-type {\n",
       "        vertical-align: middle;\n",
       "    }\n",
       "\n",
       "    .dataframe tbody tr th {\n",
       "        vertical-align: top;\n",
       "    }\n",
       "\n",
       "    .dataframe thead th {\n",
       "        text-align: right;\n",
       "    }\n",
       "</style>\n",
       "<table border=\"1\" class=\"dataframe\">\n",
       "  <thead>\n",
       "    <tr style=\"text-align: right;\">\n",
       "      <th>Gender</th>\n",
       "      <th>Female</th>\n",
       "      <th>Male</th>\n",
       "    </tr>\n",
       "    <tr>\n",
       "      <th>cluster</th>\n",
       "      <th></th>\n",
       "      <th></th>\n",
       "    </tr>\n",
       "  </thead>\n",
       "  <tbody>\n",
       "    <tr>\n",
       "      <th>0</th>\n",
       "      <td>1589</td>\n",
       "      <td>1549</td>\n",
       "    </tr>\n",
       "    <tr>\n",
       "      <th>1</th>\n",
       "      <td>95</td>\n",
       "      <td>101</td>\n",
       "    </tr>\n",
       "    <tr>\n",
       "      <th>2</th>\n",
       "      <td>468</td>\n",
       "      <td>474</td>\n",
       "    </tr>\n",
       "  </tbody>\n",
       "</table>\n",
       "</div>"
      ],
      "text/plain": [
       "Gender   Female  Male\n",
       "cluster              \n",
       "0          1589  1549\n",
       "1            95   101\n",
       "2           468   474"
      ]
     },
     "execution_count": 23,
     "metadata": {},
     "output_type": "execute_result"
    }
   ],
   "source": [
    "pd.crosstab(rfm_updated['cluster'],rfm_updated['Gender'])"
   ]
  },
  {
   "cell_type": "code",
   "execution_count": null,
   "metadata": {
    "ExecuteTime": {
     "end_time": "2023-10-16T23:08:17.983182800Z",
     "start_time": "2023-10-16T23:08:17.926334600Z"
    },
    "id": "59cF5Vr4-XQx",
    "outputId": "880bbca9-d20e-4728-977d-6db380f64958"
   },
   "outputs": [
    {
     "data": {
      "text/html": [
       "<div>\n",
       "<style scoped>\n",
       "    .dataframe tbody tr th:only-of-type {\n",
       "        vertical-align: middle;\n",
       "    }\n",
       "\n",
       "    .dataframe tbody tr th {\n",
       "        vertical-align: top;\n",
       "    }\n",
       "\n",
       "    .dataframe thead th {\n",
       "        text-align: right;\n",
       "    }\n",
       "</style>\n",
       "<table border=\"1\" class=\"dataframe\">\n",
       "  <thead>\n",
       "    <tr style=\"text-align: right;\">\n",
       "      <th></th>\n",
       "      <th>Age</th>\n",
       "      <th>MonthlyIncome</th>\n",
       "    </tr>\n",
       "    <tr>\n",
       "      <th>cluster</th>\n",
       "      <th></th>\n",
       "      <th></th>\n",
       "    </tr>\n",
       "  </thead>\n",
       "  <tbody>\n",
       "    <tr>\n",
       "      <th>0</th>\n",
       "      <td>50.444869</td>\n",
       "      <td>5738.746973</td>\n",
       "    </tr>\n",
       "    <tr>\n",
       "      <th>1</th>\n",
       "      <td>53.260204</td>\n",
       "      <td>5795.459184</td>\n",
       "    </tr>\n",
       "    <tr>\n",
       "      <th>2</th>\n",
       "      <td>49.571125</td>\n",
       "      <td>5741.281316</td>\n",
       "    </tr>\n",
       "  </tbody>\n",
       "</table>\n",
       "</div>"
      ],
      "text/plain": [
       "               Age  MonthlyIncome\n",
       "cluster                          \n",
       "0        50.444869    5738.746973\n",
       "1        53.260204    5795.459184\n",
       "2        49.571125    5741.281316"
      ]
     },
     "execution_count": 24,
     "metadata": {},
     "output_type": "execute_result"
    }
   ],
   "source": [
    "rfm_updated.groupby('cluster')['Age', 'MonthlyIncome'].mean()"
   ]
  },
  {
   "cell_type": "code",
   "execution_count": null,
   "metadata": {
    "ExecuteTime": {
     "end_time": "2023-10-16T23:14:36.267581200Z",
     "start_time": "2023-10-16T23:14:36.229902700Z"
    },
    "id": "nXSzbGK3-XQx",
    "outputId": "adad122f-1031-4125-8c3d-c8bd7e896265"
   },
   "outputs": [
    {
     "data": {
      "text/plain": [
       "0    3138\n",
       "2     942\n",
       "1     196\n",
       "Name: cluster, dtype: int64"
      ]
     },
     "execution_count": 25,
     "metadata": {},
     "output_type": "execute_result"
    }
   ],
   "source": [
    "rfm_table['cluster'].value_counts()"
   ]
  },
  {
   "cell_type": "markdown",
   "metadata": {
    "id": "fPc1wi2J-XQx"
   },
   "source": [
    "### <u> Time for conclusions </u>\n",
    "\n",
    "So we have 3 clusters among which the one labelled \"0\" is the greatest. They are similarly distributed among men and women and refer to people with close monthly incomes. However, we can also observe that these products are usually bought by people who are around 50.\n"
   ]
  },
  {
   "cell_type": "markdown",
   "metadata": {
    "id": "81HxKING-XQx"
   },
   "source": []
  }
 ],
 "metadata": {
  "kernelspec": {
   "display_name": "Python 3 (ipykernel)",
   "language": "python",
   "name": "python3"
  },
  "language_info": {
   "codemirror_mode": {
    "name": "ipython",
    "version": 3
   },
   "file_extension": ".py",
   "mimetype": "text/x-python",
   "name": "python",
   "nbconvert_exporter": "python",
   "pygments_lexer": "ipython3",
   "version": "3.11.4"
  },
  "colab": {
   "provenance": []
  }
 },
 "nbformat": 4,
 "nbformat_minor": 0
}
